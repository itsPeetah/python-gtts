{
 "cells": [
  {
   "cell_type": "code",
   "execution_count": 5,
   "metadata": {},
   "outputs": [],
   "source": [
    "from PIL import Image, ImageDraw"
   ]
  },
  {
   "cell_type": "code",
   "execution_count": 6,
   "metadata": {},
   "outputs": [],
   "source": [
    "def add_corners(im, rad):\n",
    "    circle = Image.new('L', (rad * 2, rad * 2), 0)\n",
    "    draw = ImageDraw.Draw(circle)\n",
    "    draw.ellipse((0, 0, rad * 2 - 1, rad * 2 - 1), fill=255)\n",
    "    alpha = Image.new('L', im.size, 255)\n",
    "    w, h = im.size\n",
    "    alpha.paste(circle.crop((0, 0, rad, rad)), (0, 0))\n",
    "    alpha.paste(circle.crop((0, rad, rad, rad * 2)), (0, h - rad))\n",
    "    alpha.paste(circle.crop((rad, 0, rad * 2, rad)), (w - rad, 0))\n",
    "    alpha.paste(circle.crop((rad, rad, rad * 2, rad * 2)), (w - rad, h - rad))\n",
    "    im.putalpha(alpha)\n",
    "    return im"
   ]
  },
  {
   "cell_type": "code",
   "execution_count": 7,
   "metadata": {},
   "outputs": [],
   "source": [
    "def execute(filename:str, radius:int):\n",
    "    im = Image.open(filename)\n",
    "    im = add_corners(im, radius)\n",
    "    im.save(f\"{filename}_rounded_{radius}.png\")"
   ]
  },
  {
   "cell_type": "code",
   "execution_count": 9,
   "metadata": {},
   "outputs": [],
   "source": [
    "execute(\"sato-code-promo-1.jpg\", 50)"
   ]
  },
  {
   "cell_type": "code",
   "execution_count": null,
   "metadata": {},
   "outputs": [],
   "source": []
  }
 ],
 "metadata": {
  "kernelspec": {
   "display_name": ".venv",
   "language": "python",
   "name": "python3"
  },
  "language_info": {
   "codemirror_mode": {
    "name": "ipython",
    "version": 3
   },
   "file_extension": ".py",
   "mimetype": "text/x-python",
   "name": "python",
   "nbconvert_exporter": "python",
   "pygments_lexer": "ipython3",
   "version": "3.10.5"
  },
  "orig_nbformat": 4
 },
 "nbformat": 4,
 "nbformat_minor": 2
}
